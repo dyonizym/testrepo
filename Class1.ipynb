{
    "cells": [
        {
            "metadata": {},
            "cell_type": "markdown",
            "source": "# My Jupyter Notebook on IBM Watson Studio #"
        },
        {
            "metadata": {},
            "cell_type": "markdown",
            "source": "**Dyonizy Michalenko <br>\nField Integration Technician"
        },
        {
            "metadata": {},
            "cell_type": "markdown",
            "source": "*I want to become a data scientist because I dislike my current job and would like to leave the industry*"
        },
        {
            "metadata": {},
            "cell_type": "markdown",
            "source": "### I set ranch equal to 1 and dressing to 2 and added them together ###"
        },
        {
            "metadata": {
                "scrolled": true
            },
            "cell_type": "code",
            "source": "ranch = 1\n\ndressing = 2\n\nprint(ranch + dressing)",
            "execution_count": null,
            "outputs": []
        },
        {
            "metadata": {},
            "cell_type": "markdown",
            "source": "### List and Stuff\n***\n\n#### Table with lists inside\n\n| Ordered  | Unordered | \n| -------- | --------- | \n| <ol><li>one</li><li>two</li><li>three</li></ol> | <ul><li>water</li><li>dog</li><li>cake</li></ul> |\n\n***\n\n#### A picture that is a link\n\n[![A picture of a cute cat](https://i.imgur.com/wBVr4YC.jpeg \"Little kitten\")](https://www.google.com/search?q=cute+kitten&sxsrf=ALiCzsbs-SQEhUPyChAYTf1ZMo13qCNUaw%3A1663542404903&source=hp&ei=hKQnY5f8NKvY5NoPwLSbqAg&iflsig=AJiK0e8AAAAAYyeylCVCpy7ZtTqtuI0wzsFd3EP7BJ2Z&ved=0ahUKEwiXzvGwup_6AhUrLFkFHUDaBoUQ4dUDCAk&uact=5&oq=cute+kitten&gs_lcp=Cgdnd3Mtd2l6EAMyCAgAEIAEELEDMggIABCABBCxAzIFCAAQgAQyBQgAEIAEMgUIABCABDIFCAAQgAQyBQgAEIAEMggIABCABBDJAzIFCAAQgAQyBQgAEIAEOgQIIxAnOgQIABBDOhAILhCxAxCDARDHARDRAxBDOgcILhDUAhBDOg0ILhCxAxDHARDRAxBDOgUIABCRAjoICC4QgAQQ1AI6CwgAEIAEELEDEIMBOggIABCxAxCDAToLCAAQgAQQsQMQiwM6DggAEIAEELEDEIMBEIsDOggIABCABBCLAzoQCAAQgAQQhwIQsQMQgwEQFFAAWO4gYOwiaABwAHgAgAGHAYgBsgiSAQM3LjSYAQCgAQG4AQI&sclient=gws-wiz#bsht=CgRmYnNtEgYIBBAAGAA)"
        }
    ],
    "metadata": {
        "kernelspec": {
            "name": "python3",
            "display_name": "Python 3.9",
            "language": "python"
        },
        "language_info": {
            "name": "python",
            "version": "3.9.12",
            "mimetype": "text/x-python",
            "codemirror_mode": {
                "name": "ipython",
                "version": 3
            },
            "pygments_lexer": "ipython3",
            "nbconvert_exporter": "python",
            "file_extension": ".py"
        }
    },
    "nbformat": 4,
    "nbformat_minor": 1
}