{
    "cells": [
        {
            "metadata": {},
            "cell_type": "markdown",
            "source": "# My Jupyter Notebook on IBM Watson Studio #"
        },
        {
            "metadata": {},
            "cell_type": "markdown",
            "source": "**Dyonizy Michalenko <br>\nField Integration Technician"
        },
        {
            "metadata": {},
            "cell_type": "markdown",
            "source": "*I want to become a data scientist because I dislike my current job and would like to leave the industry*"
        },
        {
            "metadata": {},
            "cell_type": "markdown",
            "source": "### I set ranch equal to 1 and dressing to 2 and added them together ###"
        },
        {
            "metadata": {
                "scrolled": true
            },
            "cell_type": "code",
            "source": "ranch = 1\n\ndressing = 2\n\nprint(ranch + dressing)",
            "execution_count": 2,
            "outputs": [
                {
                    "output_type": "stream",
                    "text": "3\n",
                    "name": "stdout"
                }
            ]
        },
        {
            "metadata": {},
            "cell_type": "code",
            "source": "",
            "execution_count": null,
            "outputs": []
        }
    ],
    "metadata": {
        "kernelspec": {
            "name": "python3",
            "display_name": "Python 3.9",
            "language": "python"
        },
        "language_info": {
            "name": "python",
            "version": "3.9.12",
            "mimetype": "text/x-python",
            "codemirror_mode": {
                "name": "ipython",
                "version": 3
            },
            "pygments_lexer": "ipython3",
            "nbconvert_exporter": "python",
            "file_extension": ".py"
        }
    },
    "nbformat": 4,
    "nbformat_minor": 1
}