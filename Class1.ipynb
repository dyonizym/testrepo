{
    "cells": [
        {
            "metadata": {},
            "cell_type": "markdown",
            "source": "# My Jupyter Notebook on IBM Watson Studio #"
        },
        {
            "metadata": {},
            "cell_type": "markdown",
            "source": "**Dyonizy Michalenko** <br>\nField Integration Technician"
        },
        {
            "metadata": {},
            "cell_type": "markdown",
            "source": "*I want to become a data scientist because I dislike my current job and would like to leave the industry*"
        },
        {
            "metadata": {},
            "cell_type": "markdown",
            "source": "### I set ranch equal to 1 and dressing to 2 and added them together ###"
        },
        {
            "metadata": {
                "scrolled": true
            },
            "cell_type": "code",
            "source": "ranch = 1\n\ndressing = 2\n\nprint(ranch + dressing)",
            "execution_count": null,
            "outputs": []
        },
        {
            "metadata": {},
            "cell_type": "markdown",
            "source": "### List and Stuff\n***\n\n#### Table with lists inside\n\n<table>\n    <tr>\n        <th> ordered </th>\n        <th> unordered </th>\n    </tr>\n    <tr>\n        <td>\n            <ol>\n                <li>one</li><li>two</li><li>three</li>\n            </ol>\n        </td>\n        <td>\n            <ul>\n                <li>water</li><li>dog</li><li>cake</li>\n            </ul>\n        </td>\n    </tr>\n    \n    \n </table>\n\n***\n\n#### A picture that is a link\n\n[![A picture of a cute cat](https://i.imgur.com/wBVr4YC.jpeg \"Little kitten\")](https://www.google.com/search?q=cute+kitten&sxsrf=ALiCzsbs-SQEhUPyChAYTf1ZMo13qCNUaw%3A1663542404903&source=hp&ei=hKQnY5f8NKvY5NoPwLSbqAg&iflsig=AJiK0e8AAAAAYyeylCVCpy7ZtTqtuI0wzsFd3EP7BJ2Z&ved=0ahUKEwiXzvGwup_6AhUrLFkFHUDaBoUQ4dUDCAk&uact=5&oq=cute+kitten&gs_lcp=Cgdnd3Mtd2l6EAMyCAgAEIAEELEDMggIABCABBCxAzIFCAAQgAQyBQgAEIAEMgUIABCABDIFCAAQgAQyBQgAEIAEMggIABCABBDJAzIFCAAQgAQyBQgAEIAEOgQIIxAnOgQIABBDOhAILhCxAxCDARDHARDRAxBDOgcILhDUAhBDOg0ILhCxAxDHARDRAxBDOgUIABCRAjoICC4QgAQQ1AI6CwgAEIAEELEDEIMBOggIABCxAxCDAToLCAAQgAQQsQMQiwM6DggAEIAEELEDEIMBEIsDOggIABCABBCLAzoQCAAQgAQQhwIQsQMQgwEQFFAAWO4gYOwiaABwAHgAgAGHAYgBsgiSAQM3LjSYAQCgAQG4AQI&sclient=gws-wiz#bsht=CgRmYnNtEgYIBBAAGAA)"
        },
        {
            "metadata": {},
            "cell_type": "code",
            "source": "",
            "execution_count": null,
            "outputs": []
        }
    ],
    "metadata": {
        "kernelspec": {
            "name": "python3",
            "display_name": "Python 3.9",
            "language": "python"
        },
        "language_info": {
            "name": "python",
            "version": "3.9.12",
            "mimetype": "text/x-python",
            "codemirror_mode": {
                "name": "ipython",
                "version": 3
            },
            "pygments_lexer": "ipython3",
            "nbconvert_exporter": "python",
            "file_extension": ".py"
        }
    },
    "nbformat": 4,
    "nbformat_minor": 1
}